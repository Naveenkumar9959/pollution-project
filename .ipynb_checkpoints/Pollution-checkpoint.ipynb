{
 "cells": [
  {
   "cell_type": "markdown",
   "id": "712c7491-8860-4b93-9e23-5c5562118a4a",
   "metadata": {},
   "source": [
    "### Air Quality Analysis  (2000-2022)"
   ]
  },
  {
   "cell_type": "markdown",
   "id": "977622b9-93e2-49c6-a92f-40e17329d7ea",
   "metadata": {},
   "source": [
    "#### Problem Satement\n",
    "<i><b>Comprehensive Analysis and Mitigation Strategy Development for Air Pollution in the United States <b></i>"
   ]
  },
  {
   "cell_type": "code",
   "execution_count": null,
   "id": "0e4b8e5a-5a43-4cfa-a9e5-af8e61772ed7",
   "metadata": {},
   "outputs": [],
   "source": []
  },
  {
   "cell_type": "code",
   "execution_count": 71,
   "id": "03d9d256-9332-464e-9129-0352379e3131",
   "metadata": {},
   "outputs": [],
   "source": [
    "import pandas as pd \n",
    "import numpy as np\n",
    "import matplotlib.pyplot as plt\n",
    "import seaborn as sns\n",
    "import warnings\n",
    "warnings.filterwarnings('ignore')"
   ]
  },
  {
   "cell_type": "markdown",
   "id": "56cda3f2-235d-4502-af95-b82a8aeb7560",
   "metadata": {},
   "source": [
    "##### <b><i>Import Data From CSV file with six lakhs rows </i></b>"
   ]
  },
  {
   "cell_type": "code",
   "execution_count": 83,
   "id": "20b0808d-f6fb-4ea6-b69d-3919351a1eff",
   "metadata": {},
   "outputs": [],
   "source": [
    "df = pd.read_csv(r\"C:\\Users\\bukka\\Desktop\\Pollution Project\\pollution_2000_2023.csv\")"
   ]
  },
  {
   "cell_type": "code",
   "execution_count": 85,
   "id": "4f25abc1-f0f5-4ed6-aa80-77b8f7b1bc44",
   "metadata": {},
   "outputs": [],
   "source": [
    "df.drop(\"Unnamed: 0\",axis=1,inplace =True)"
   ]
  },
  {
   "cell_type": "markdown",
   "id": "6c1b3e48-a486-4276-b667-5b9aa65105af",
   "metadata": {},
   "source": [
    "<b><i> Rename The column Names in the correct format</i></b>"
   ]
  },
  {
   "cell_type": "code",
   "execution_count": 89,
   "id": "3ffec005-2a00-40e3-afa5-c10a3703a66e",
   "metadata": {},
   "outputs": [],
   "source": [
    "df = df.rename(columns={\"County\": \"Country\"})"
   ]
  },
  {
   "cell_type": "code",
   "execution_count": 91,
   "id": "93f768b4-0613-42f2-9a9c-bb9381e6db69",
   "metadata": {},
   "outputs": [
    {
     "data": {
      "text/plain": [
       "array(['Maricopa', 'Pima', 'Contra Costa', 'Imperial', 'Kern',\n",
       "       'Los Angeles', 'Orange', 'Riverside', 'Sacramento',\n",
       "       'San Bernardino', 'San Diego', 'San Francisco', 'Santa Barbara',\n",
       "       'Santa Cruz', 'Solano', 'Ventura', 'Adams', 'District of Columbia',\n",
       "       'Cook', 'Marion', 'Linn', 'Sumner', 'Wyandotte', 'Boyd', 'Daviess',\n",
       "       'Fayette', 'Henderson', 'Jefferson', 'McCracken',\n",
       "       'East Baton Rouge', 'Wayne', 'Saint Louis', 'St. Louis City',\n",
       "       'Camden', 'Bronx', 'Queens', 'Suffolk', 'Forsyth', 'Mecklenburg',\n",
       "       'Cherokee', 'Kay', 'Allegheny', 'Beaver', 'Berks', 'Blair',\n",
       "       'Bucks', 'Cambria', 'Lackawanna', 'Lancaster', 'Lawrence',\n",
       "       'Montgomery', 'Northampton', 'Philadelphia', 'Washington',\n",
       "       'Westmoreland', 'York', 'Dallas', 'El Paso', 'Harris', 'Fairfax',\n",
       "       'Alexandria City', 'King', 'Milwaukee', 'Alameda', 'Saint Clair',\n",
       "       'Clark', 'Essex', 'Ottawa', 'Kent', 'Hillsborough', 'Haywood',\n",
       "       'Meigs', 'Fresno', 'Charleston', 'Denver', 'Erie', 'Humboldt',\n",
       "       'New Haven', 'Scott', 'Aroostook', 'Baltimore', 'Tulsa', 'Dauphin',\n",
       "       'Luzerne', 'Pulaski', 'Fairfield', 'Hartford', 'Polk',\n",
       "       \"Prince George's\", 'Multnomah', 'McLennan', 'Uinta', 'Cumberland',\n",
       "       'Steuben', 'Cass', 'Adair', 'Blount', 'Bexar', 'Santa Clara',\n",
       "       'Ada', 'Athens', 'Medina', 'Litchfield', 'DeKalb', 'Washoe',\n",
       "       'Henrico', 'Hampton City', 'New Castle', 'Honolulu', 'Anoka',\n",
       "       'Bernalillo', 'Monroe', 'Cuyahoga', 'Hamilton', 'Oklahoma',\n",
       "       'Providence', 'Minnehaha', 'Salt Lake', 'Laramie', 'Sweetwater',\n",
       "       'Jackson', 'Travis', 'Duchesne', 'Uintah', 'Union', 'Roanoke',\n",
       "       'Fairbanks North Star ', 'Garrett', 'Rockingham', 'Wake',\n",
       "       'Fremont', 'Hinds', 'Burleigh', 'Richland', 'Rutland', 'Broward',\n",
       "       'Shelby'], dtype=object)"
      ]
     },
     "execution_count": 91,
     "metadata": {},
     "output_type": "execute_result"
    }
   ],
   "source": [
    "df[\"Country\"].unique()"
   ]
  },
  {
   "cell_type": "code",
   "execution_count": 93,
   "id": "aca719ab-1798-4c98-a627-0b51c05ba91f",
   "metadata": {},
   "outputs": [
    {
     "data": {
      "text/plain": [
       "array(['Arizona', 'California', 'Colorado', 'District Of Columbia',\n",
       "       'Florida', 'Illinois', 'Indiana', 'Kansas', 'Kentucky',\n",
       "       'Louisiana', 'Michigan', 'Missouri', 'New Jersey', 'New York',\n",
       "       'North Carolina', 'Oklahoma', 'Pennsylvania', 'Texas', 'Virginia',\n",
       "       'Washington', 'Wisconsin', 'Massachusetts', 'Nevada',\n",
       "       'New Hampshire', 'Tennessee', 'South Carolina', 'Connecticut',\n",
       "       'Iowa', 'Maine', 'Maryland', 'Arkansas', 'Oregon', 'Wyoming',\n",
       "       'North Dakota', 'Idaho', 'Ohio', 'Georgia', 'Delaware', 'Hawaii',\n",
       "       'Minnesota', 'New Mexico', 'Rhode Island', 'South Dakota', 'Utah',\n",
       "       'Alabama', 'Alaska', 'Mississippi', 'Vermont'], dtype=object)"
      ]
     },
     "execution_count": 93,
     "metadata": {},
     "output_type": "execute_result"
    }
   ],
   "source": [
    "df[\"State\"].unique()"
   ]
  },
  {
   "cell_type": "code",
   "execution_count": 94,
   "id": "161bc974-b61a-4c6a-86b0-aa9851ab0432",
   "metadata": {},
   "outputs": [
    {
     "data": {
      "text/plain": [
       "array(['Phoenix', 'Scottsdale', 'Tucson', 'Concord', 'Bethel Island',\n",
       "       'San Pablo', 'Pittsburg', 'Calexico', 'Bakersfield', 'Burbank',\n",
       "       'Los Angeles', 'Long Beach', 'Hawthorne', 'Costa Mesa', 'Rubidoux',\n",
       "       'Not in a city', 'Arden-Arcade', 'Victorville', 'Chula Vista',\n",
       "       'San Diego', 'San Francisco', 'Capitan', 'Lompoc', 'Goleta',\n",
       "       'Vandenberg Air Force Base', 'Davenport', 'Vallejo', 'Welby',\n",
       "       'Washington', 'Winter Park', 'Chicago', 'Cicero',\n",
       "       'Calumet City (PU RR name Calumet Park (sta.))',\n",
       "       'Indianapolis (Remainder)', 'Kansas City', 'Ashland',\n",
       "       'Lexington-Fayette (corporate name for Lexington)', 'Henderson',\n",
       "       'Louisville', 'Paducah', 'Baton Rouge', 'Detroit', 'Sunset Hills',\n",
       "       'Ladue', 'Ferguson', 'St. Ann', 'St. Louis', 'Camden', 'New York',\n",
       "       'Holtsville', 'Winston-Salem', 'Charlotte', 'Park Hill',\n",
       "       'Ponca City', 'Pittsburgh', 'Beaver Falls', 'Reading', 'Altoona',\n",
       "       'Bristol', 'Johnstown', 'Scranton', 'Lancaster', 'New Castle',\n",
       "       'Norristown', 'Freemansburg', 'Philadelphia', 'Charleroi',\n",
       "       'Greensburg', 'York', 'Dallas', 'El Paso', 'Houston',\n",
       "       'Seven Corners', 'McLean', 'Alexandria', 'Seattle', 'Milwaukee',\n",
       "       'Oakland', 'Crockett', 'West Los Angeles', 'East Saint Louis',\n",
       "       'Boston', 'Breckenridge Hills', 'Boulder City', 'Newark', 'Miami',\n",
       "       'Grand Rapids', 'Manchester', 'Annandale', 'Fresno', 'Denver',\n",
       "       'Kenner', 'Erie', 'Eureka', 'New Haven', 'Presque Isle', 'Essex',\n",
       "       'Tulsa', 'Wilkes-Barre', 'North Little Rock', 'Berkeley',\n",
       "       'Benicia', 'Westport', 'East Hartford', 'Valrico', 'Northbrook',\n",
       "       'Des Moines', 'Beltsville', 'Portland', 'Waco', 'Fontana',\n",
       "       'Cherry Tree', 'San Antonio', 'San Jose', 'Athens', 'Cupertino',\n",
       "       'Cornwall', 'Reno', 'Deer Park', 'East Highland Park', 'Hampton',\n",
       "       'El Cajon', 'Wilmington', 'Blaine', 'Albuquerque', 'Rochester',\n",
       "       'Cleveland', 'Cincinnati', 'Oklahoma City', 'East Providence',\n",
       "       'Sioux Falls', 'Salt Lake City', 'Austin', 'Roosevelt',\n",
       "       'Birmingham', 'Vinton', 'Fairbanks', 'Grantsville', 'Londonderry',\n",
       "       'Raleigh', 'Riverton', 'Jackson', 'Bismarck', 'Dentsville (Dents)',\n",
       "       'Rutland', 'Sunrise Manor', 'Midvale', 'Davie', 'Memphis',\n",
       "       'Cheyenne'], dtype=object)"
      ]
     },
     "execution_count": 94,
     "metadata": {},
     "output_type": "execute_result"
    }
   ],
   "source": [
    "df[\"City\"].unique()"
   ]
  },
  {
   "cell_type": "code",
   "execution_count": null,
   "id": "3edc4bb2-d3f2-43bf-aba8-62d1276d6c21",
   "metadata": {},
   "outputs": [],
   "source": []
  }
 ],
 "metadata": {
  "kernelspec": {
   "display_name": "Python 3 (ipykernel)",
   "language": "python",
   "name": "python3"
  },
  "language_info": {
   "codemirror_mode": {
    "name": "ipython",
    "version": 3
   },
   "file_extension": ".py",
   "mimetype": "text/x-python",
   "name": "python",
   "nbconvert_exporter": "python",
   "pygments_lexer": "ipython3",
   "version": "3.11.7"
  }
 },
 "nbformat": 4,
 "nbformat_minor": 5
}
